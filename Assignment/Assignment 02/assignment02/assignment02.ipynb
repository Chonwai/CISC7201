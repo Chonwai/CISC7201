{
 "cells": [
  {
   "cell_type": "markdown",
   "metadata": {},
   "source": [
    "# Question 1 (20%)\n",
    "Use only ONE line to print multiples of 5 in [0,100] (Opt1: For loop, Opt2: lambda)"
   ]
  },
  {
   "cell_type": "code",
   "execution_count": null,
   "metadata": {},
   "outputs": [],
   "source": []
  },
  {
   "cell_type": "markdown",
   "metadata": {},
   "source": [
    "# Question 2 (25%)\n",
    "* Write a function of Python that requires an argument of a year number, e.g., 2020. \n",
    "* The function is to return the number of days of the argument. \n",
    "* Invalid input should be pointed out \"Invalid input\".\n",
    "* The program should be executed continuously."
   ]
  },
  {
   "cell_type": "code",
   "execution_count": null,
   "metadata": {},
   "outputs": [],
   "source": [
    "def checkdays(year):\n",
    "    # ...\n",
    "    \n",
    "# implement your logic\n",
    "checkdays(2020)"
   ]
  },
  {
   "cell_type": "markdown",
   "metadata": {},
   "source": [
    "# Question 3 (25%)\n",
    "* Given a grade table in a Dictionary structure. \n",
    "  * Write a function to return the highest score, the lowest score, average score.\n",
    "  * Write a function to generate a dictionary that uses 'class' as key and 'name' as values, e.g., {'one':'Alice, Bob, ...'}\n",
    "  * Write the newly generated dictionary into a file \"data.json\" in [JSON format](https://stackabuse.com/reading-and-writing-json-to-a-file-in-python/)."
   ]
  },
  {
   "cell_type": "code",
   "execution_count": null,
   "metadata": {},
   "outputs": [],
   "source": [
    "import json\n",
    "\n",
    "grades = [\n",
    "    {'name': 'Alice', 'class': 'one', 'score': 85},\n",
    "    {'name': 'Bob', 'class': 'two', 'score': 95},\n",
    "    {'name': 'Cindy', 'class': 'one', 'score': 90},\n",
    "    {'name': 'Daniel', 'class': 'two', 'score': 90},\n",
    "    {'name': 'Elisa', 'class': 'two', 'score': 80},\n",
    "    {'name': 'Frank', 'class': 'one', 'score': 95}\n",
    "]\n",
    "\n",
    "def stat(grades):\n",
    "    # ...\n",
    "    return highest, lowest, average\n",
    "\n",
    "def generate(grades):\n",
    "    # ...\n",
    "    return classes\n",
    "\n",
    "# implement your logic here\n",
    "\n",
    "# write file in JSON format\n",
    "with open('data.json', 'w') as outfile:\n",
    "    # implement your logic here\n",
    "    # e.g., json.dump(data, outfile)"
   ]
  },
  {
   "cell_type": "markdown",
   "metadata": {},
   "source": [
    "# Question 4 (30%)\n",
    "Given a List L where the data are extracted from a CSV file \"Salaries.csv\", your task is to answer the following questions\n",
    "1. Finding the highest \"Total Pay with Benefits\" Employee whose Job Title is 'TRANSIT SUPERVISOR'.\n",
    "2. Finding the highest \"Total Pay\" Employee whose Job Title contains 'fire dept'. Hints: you may need to learn how to use [find](https://www.geeksforgeeks.org/string-find-python/) in Python.\n",
    "3. Finding the top-5 highest \"Total Pay\" Employee whose job status is PT."
   ]
  },
  {
   "cell_type": "code",
   "execution_count": 17,
   "metadata": {},
   "outputs": [
    {
     "name": "stdout",
     "output_type": "stream",
     "text": [
      "['VICTOR WYRSCH', 'BATTALION CHIEF, (FIRE DEPARTMENT)', '168692.63', '77896.14', '24083.86', '', '2011', '']\n"
     ]
    }
   ],
   "source": [
    "import csv\n",
    "import itertools\n",
    "\n",
    "with open('sf-salaries/Salaries.csv', mode='r') as csv_file:\n",
    "    csv_reader = csv.DictReader(csv_file)\n",
    "    L=[]\n",
    "    for row in csv_reader:\n",
    "        L.append([row[\"EmployeeName\"],row[\"JobTitle\"],row[\"BasePay\"],row[\"OvertimePay\"],row[\"OtherPay\"],row[\"Benefits\"],row[\"Year\"],row[\"Status\"]])\n",
    "        \n",
    "    print(L[23]) # this will print the 23rd record of the csv file\n",
    "\n",
    "# implement your answer 1 here\n",
    "\n",
    "# implement your answer 2 here\n",
    "\n",
    "# implement your answer 3 here"
   ]
  },
  {
   "cell_type": "markdown",
   "metadata": {},
   "source": [
    "# Bonus Question (+10%)\n",
    "* Randomly generate a list of 10,000 random numbers in [0,100000)\n",
    "    * e.g., L = [1, 10, 2, 3, 7, 8, 13, 21, 34, 66, 14, ...]\n",
    "* Write a program that print out all PRIME numbers in L\n",
    "* Check [Sieve of Eratosthenes](https://en.wikipedia.org/wiki/Sieve_of_Eratosthenes)"
   ]
  },
  {
   "cell_type": "code",
   "execution_count": null,
   "metadata": {},
   "outputs": [],
   "source": [
    "# basic idea\n",
    "PRIMES=[]\n",
    "for i in range(10000):\n",
    "    for j in PRIMES:\n",
    "        # implement your logic here"
   ]
  }
 ],
 "metadata": {
  "kernelspec": {
   "display_name": "Python 3",
   "language": "python",
   "name": "python3"
  },
  "language_info": {
   "codemirror_mode": {
    "name": "ipython",
    "version": 3
   },
   "file_extension": ".py",
   "mimetype": "text/x-python",
   "name": "python",
   "nbconvert_exporter": "python",
   "pygments_lexer": "ipython3",
   "version": "3.7.1"
  }
 },
 "nbformat": 4,
 "nbformat_minor": 2
}
